{
 "cells": [
  {
   "cell_type": "code",
   "execution_count": 4,
   "id": "e1fa0386-466f-4ae7-afd6-024108a92e78",
   "metadata": {},
   "outputs": [],
   "source": [
    "import numpy as np\n",
    "from classifiers import *\n",
    "from pipeline import *\n",
    "\n",
    "from tensorflow.keras.preprocessing.image import ImageDataGenerator"
   ]
  },
  {
   "cell_type": "code",
   "execution_count": 23,
   "id": "a3aa9447-4ee8-4c4d-bdad-17353eefb046",
   "metadata": {
    "tags": []
   },
   "outputs": [
    {
     "name": "stdout",
     "output_type": "stream",
     "text": [
      "\u001b[33mWARNING: Ignoring invalid distribution -illow (/home/psilimk/.conda/envs/pytorch/lib/python3.10/site-packages)\u001b[0m\u001b[33m\n",
      "\u001b[0mCollecting opencv-python-headless\n",
      "  Obtaining dependency information for opencv-python-headless from https://files.pythonhosted.org/packages/9d/d7/e2aaf344254292d2046f9984b54212e4e7d69a57d30ae15e7294840710f6/opencv_python_headless-4.8.1.78-cp37-abi3-manylinux_2_17_x86_64.manylinux2014_x86_64.whl.metadata\n",
      "  Downloading opencv_python_headless-4.8.1.78-cp37-abi3-manylinux_2_17_x86_64.manylinux2014_x86_64.whl.metadata (19 kB)\n",
      "Requirement already satisfied: numpy>=1.21.2 in /home/psilimk/.conda/envs/pytorch/lib/python3.10/site-packages (from opencv-python-headless) (1.26.0)\n",
      "Downloading opencv_python_headless-4.8.1.78-cp37-abi3-manylinux_2_17_x86_64.manylinux2014_x86_64.whl (49.1 MB)\n",
      "\u001b[2K   \u001b[90m━━━━━━━━━━━━━━━━━━━━━━━━━━━━━━━━━━━━━━━━\u001b[0m \u001b[32m49.1/49.1 MB\u001b[0m \u001b[31m43.3 MB/s\u001b[0m eta \u001b[36m0:00:00\u001b[0m:00:01\u001b[0m00:01\u001b[0m\n",
      "\u001b[?25h\u001b[33mWARNING: Ignoring invalid distribution -illow (/home/psilimk/.conda/envs/pytorch/lib/python3.10/site-packages)\u001b[0m\u001b[33m\n",
      "\u001b[0mInstalling collected packages: opencv-python-headless\n",
      "Successfully installed opencv-python-headless-4.8.1.78\n",
      "Note: you may need to restart the kernel to use updated packages.\n"
     ]
    }
   ],
   "source": [
    "pip install opencv-python-headless"
   ]
  },
  {
   "cell_type": "code",
   "execution_count": 5,
   "id": "01743950-1de9-4aab-94ab-333fd285ba48",
   "metadata": {},
   "outputs": [],
   "source": [
    "import os"
   ]
  },
  {
   "cell_type": "code",
   "execution_count": 6,
   "id": "e5b66542-e123-499a-a4d2-47b32c7073c3",
   "metadata": {},
   "outputs": [
    {
     "name": "stderr",
     "output_type": "stream",
     "text": [
      "WARNING:absl:`lr` is deprecated in Keras optimizer, please use `learning_rate` or use the legacy optimizer, e.g.,tf.keras.optimizers.legacy.Adam.\n"
     ]
    }
   ],
   "source": [
    "classifier = Meso4()"
   ]
  },
  {
   "cell_type": "code",
   "execution_count": 7,
   "id": "67c364ac-be02-4312-8e75-3b015385d85e",
   "metadata": {},
   "outputs": [],
   "source": [
    "classifier.load('weights/Meso4_DF.h5')"
   ]
  },
  {
   "cell_type": "code",
   "execution_count": 8,
   "id": "34c1d05c-83c4-492a-ad8b-e4f625987154",
   "metadata": {},
   "outputs": [],
   "source": [
    "def delete_files_in_directory(directory_path):\n",
    "    for filename in os.listdir(directory_path):\n",
    "        file_path = os.path.join(directory_path, filename)\n",
    "        try:\n",
    "            if os.path.isfile(file_path):\n",
    "                os.remove(file_path)\n",
    "        except Exception as e:\n",
    "            print(f\"Error deleting {file_path}: {e}\")"
   ]
  },
  {
   "cell_type": "code",
   "execution_count": 9,
   "id": "75ae0758-e1e9-4ec0-93a4-21c4f01d9501",
   "metadata": {},
   "outputs": [],
   "source": [
    "import ipywidgets as widgets\n",
    "from IPython.display import display"
   ]
  },
  {
   "cell_type": "code",
   "execution_count": 10,
   "id": "41457fa6-e5d3-4e3a-a08b-06f8436903c3",
   "metadata": {},
   "outputs": [
    {
     "data": {
      "application/vnd.jupyter.widget-view+json": {
       "model_id": "519c0da3c42d4753967af03962fc8062",
       "version_major": 2,
       "version_minor": 0
      },
      "text/plain": [
       "FileUpload(value=(), description='Upload')"
      ]
     },
     "metadata": {},
     "output_type": "display_data"
    }
   ],
   "source": [
    "uploader = widgets.FileUpload()\n",
    "display(uploader)\n",
    "\n",
    "def _handle_upload(change):\n",
    "    print('inside')\n",
    "    filename = change['owner'].filename\n",
    "    with open('my_file.txt', 'wb') as f:\n",
    "        f.write(change['owner'].data)\n",
    "    print('Uploaded `{}` ({:.2f} kB)'.format(\n",
    "        filename, len(change['owner'].data) / 2**10))\n",
    "\n",
    "uploader.observe(_handle_upload, names='data')"
   ]
  },
  {
   "cell_type": "code",
   "execution_count": 11,
   "id": "89b5d984-b140-4735-94bd-ee862feb8f19",
   "metadata": {},
   "outputs": [],
   "source": [
    "with open('test_images/df/test_file.jpg', 'wb') as f:\n",
    "    f.write(bytes(uploader.value[0].content))"
   ]
  },
  {
   "cell_type": "code",
   "execution_count": 12,
   "id": "237c3298-9819-4393-90f3-5bfdf22cba21",
   "metadata": {},
   "outputs": [],
   "source": [
    "def pred():\n",
    "    X, y = generator.next()\n",
    "    op = 'Deep Fake image'\n",
    "    pred = classifier.predict(X)\n",
    "    if pred[0][0] > 0.5:\n",
    "        op = 'Original image'\n",
    "\n",
    "    return op"
   ]
  },
  {
   "cell_type": "code",
   "execution_count": 15,
   "id": "1c849dac-d078-4c12-bb83-3cca6452c4a6",
   "metadata": {},
   "outputs": [
    {
     "name": "stdout",
     "output_type": "stream",
     "text": [
      "Found 6 images belonging to 2 classes.\n"
     ]
    }
   ],
   "source": [
    "dataGenerator = ImageDataGenerator(rescale=1./255)\n",
    "generator = dataGenerator.flow_from_directory(\n",
    "        'test_images',\n",
    "        target_size=(256, 256),\n",
    "        batch_size=1,\n",
    "        class_mode='binary',\n",
    "        subset='training')"
   ]
  },
  {
   "cell_type": "code",
   "execution_count": 35,
   "id": "39818754-c716-4065-a94a-b6ae6826b111",
   "metadata": {},
   "outputs": [
    {
     "name": "stdout",
     "output_type": "stream",
     "text": [
      "1/1 [==============================] - 0s 28ms/step\n",
      "Predicted : Deep Fake image\n"
     ]
    }
   ],
   "source": [
    "pred_op = pred()\n",
    "\n",
    "print('Predicted :', pred_op)"
   ]
  },
  {
   "cell_type": "code",
   "execution_count": 31,
   "id": "4d56423b-38f2-4abc-a756-3011f14d5a7b",
   "metadata": {},
   "outputs": [],
   "source": [
    "delete_files_in_directory('test_images/df')"
   ]
  },
  {
   "cell_type": "code",
   "execution_count": null,
   "id": "30ec9172-fc71-41bb-b757-fcd51861f123",
   "metadata": {},
   "outputs": [],
   "source": []
  }
 ],
 "metadata": {
  "kernelspec": {
   "display_name": "Python 3 (ipykernel)",
   "language": "python",
   "name": "python3"
  },
  "language_info": {
   "codemirror_mode": {
    "name": "ipython",
    "version": 3
   },
   "file_extension": ".py",
   "mimetype": "text/x-python",
   "name": "python",
   "nbconvert_exporter": "python",
   "pygments_lexer": "ipython3",
   "version": "3.10.13"
  }
 },
 "nbformat": 4,
 "nbformat_minor": 5
}
